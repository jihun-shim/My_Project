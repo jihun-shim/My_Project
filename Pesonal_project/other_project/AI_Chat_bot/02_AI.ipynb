{
 "cells": [
  {
   "cell_type": "code",
   "execution_count": 1,
   "metadata": {},
   "outputs": [
    {
     "ename": "ModuleNotFoundError",
     "evalue": "No module named 'alpaca_trade_api'",
     "output_type": "error",
     "traceback": [
      "\u001b[0;31m---------------------------------------------------------------------------\u001b[0m",
      "\u001b[0;31mModuleNotFoundError\u001b[0m                       Traceback (most recent call last)",
      "Cell \u001b[0;32mIn[1], line 1\u001b[0m\n\u001b[0;32m----> 1\u001b[0m \u001b[38;5;28;01mfrom\u001b[39;00m \u001b[38;5;21;01malpaca_trade_api\u001b[39;00m\u001b[38;5;21;01m.\u001b[39;00m\u001b[38;5;21;01mrest\u001b[39;00m \u001b[38;5;28;01mimport\u001b[39;00m REST\n\u001b[1;32m      2\u001b[0m \u001b[38;5;28;01mfrom\u001b[39;00m \u001b[38;5;21;01mtransformers\u001b[39;00m \u001b[38;5;28;01mimport\u001b[39;00m pipeline\n\u001b[1;32m      3\u001b[0m \u001b[38;5;28;01mimport\u001b[39;00m \u001b[38;5;21;01mtorch\u001b[39;00m\n",
      "\u001b[0;31mModuleNotFoundError\u001b[0m: No module named 'alpaca_trade_api'"
     ]
    }
   ],
   "source": [
    "from alpaca_trade_api.rest import REST\n",
    "from transformers import pipeline\n",
    "import torch\n",
    "\n",
    "# Alpaca API로 실시간 데이터 가져오기\n",
    "api = REST('YOUR_API_KEY', 'YOUR_SECRET_KEY', base_url='https://paper-api.alpaca.markets')\n",
    "\n",
    "# 주식 종목 입력\n",
    "print(\"주식 종목을 입력하세요 (예: TSLA): \")\n",
    "stock_name = input().upper()\n",
    "\n",
    "# 최신 주가 데이터 가져오기\n",
    "bar = api.get_bars(stock_name, \"1Min\", limit=10).df  # 최근 10분 데이터\n",
    "prices = bar['close'].values\n",
    "\n",
    "# Transformer로 예측 (가정: 학습된 모델 사용)\n",
    "predictor = pipeline(\"time-series-forecasting\", model=\"huggingface/time-series-transformer\")  # 가상 모델\n",
    "prediction = predictor(prices.tolist())  # 실제론 학습 필요\n",
    "\n",
    "# 결과 출력\n",
    "print(f\"\\n{stock_name} 당일 예측:\")\n",
    "print(f\"최고점: ${prediction['high']:.2f}\")\n",
    "print(f\"최저점: ${prediction['low']:.2f}\")\n",
    "print(f\"최적 매수 시점: ${prediction['buy']:.2f}\")\n",
    "print(f\"최적 매도 시점: ${prediction['sell']:.2f}\")\n",
    "\n",
    "# Y/N 선택\n",
    "print(\"\\n최적 시점에 사고 팔겠습니까? (Y/N): \")\n",
    "choice = input().upper()\n",
    "if choice == \"Y\":\n",
    "    profit = prediction['sell'] - prediction['buy']\n",
    "    print(f\"매수: ${prediction['buy']:.2f}, 매도: ${prediction['sell']:.2f}, 수익: ${profit:.2f}\")\n",
    "else:\n",
    "    print(\"거래 취소!\")"
   ]
  },
  {
   "cell_type": "code",
   "execution_count": null,
   "metadata": {},
   "outputs": [],
   "source": []
  }
 ],
 "metadata": {
  "kernelspec": {
   "display_name": "Python 3",
   "language": "python",
   "name": "python3"
  },
  "language_info": {
   "codemirror_mode": {
    "name": "ipython",
    "version": 3
   },
   "file_extension": ".py",
   "mimetype": "text/x-python",
   "name": "python",
   "nbconvert_exporter": "python",
   "pygments_lexer": "ipython3",
   "version": "3.11.11"
  }
 },
 "nbformat": 4,
 "nbformat_minor": 2
}
